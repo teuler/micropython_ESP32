{
 "cells": [
  {
   "cell_type": "markdown",
   "metadata": {},
   "source": [
    "## MicroPython on an ESP32\n",
    "\n",
    "The following is a collection of notes on the installation and the \n",
    "usage of MicroPython on an ESP32, here tested using an **Adafruit Huzzah32**. Note that while the Huzzah32 was created by Adafruit, their\n",
    "fork of MicroPython (\"CircuitPython\") is not yet available for \n",
    "this board.\n",
    "\n",
    "_Acknowledgements:_ These notes heavely relied on the following earlier, very helpful resources:\n",
    "- Installation:  \n",
    "  - https://lemariva.com/blog/2017/10/micropython-getting-started  \n",
    "  - https://github.com/pvanallen/esp32-getstarted\n",
    "- Jupyter notebook for MicroPython:\n",
    "  - https://github.com/goatchurchprime/jupyter_micropython_kernel/\n",
    "\n",
    "### Setting up MicroPython on the ESP32 under Windows 10:\n",
    "\n",
    "1. Install USB to Serial driver for the ESP32:  \n",
    "    [Download driver here](https://www.silabs.com/products/development-tools/software/usb-to-uart-bridge-vcp-drivers)\n",
    "    \n",
    "    \n",
    "2. Restart computer\n",
    "\n",
    "\n",
    "3. Update pip and install some tools:\n",
    "   ```\n",
    "   python -m pip install --upgrade pip\n",
    "   pip install msgpack\n",
    "   pip install esptool\n",
    "   pip install adafruit-ampy\n",
    "   ```\n",
    "   \n",
    "4. Download the latest Micropython software binary for ESP32:  \n",
    "    [Download firmware here](https://micropython.org/download/#esp32)\n",
    "  \n",
    "  \n",
    "5. Connect the device to the PC using an USB cable, and check the serial\n",
    "   interface number where the ESP32 is connected (e.g. COM5).\n",
    "\n",
    "\n",
    "6. In a (power)shell, erase the flash of the ESP32, with `<xx>` indicating\n",
    "   the current COM port and `<yyy>` the name of the firmware file.\n",
    "   ```\n",
    "   python -m esptool --port COM<xx> erase_flash\n",
    "   python -m esptool --port COM<xx> --baud 460800 write_flash --flash_mode  dio --flash_size=detect 0x1000 <yyy>.bin\n",
    "   ```\n",
    "   \n",
    "7. Now you should be ready to go. Start a terminal program (e.g. PuTTY) and \n",
    "   connect to the COM port (at 115200 BAUD). You should see the chevrons \n",
    "   (`>>>`) of the [REPL prompt](https://docs.micropython.org/en/latest/esp8266/esp8266/tutorial/repl.html),\n",
    "   indicating that the device is ready. Try something like \n",
    "   `print(\"Hello\")` to see if the device responds.\n",
    "   \n",
    "\n",
    "8. In a powershell (or bash), use the tool `ampy` (in a powershell or bash)\n",
    "   to manipulate files on the ESP32. See https://github.com/adafruit/ampy for details.\n",
    "   For example, copy a python file to the flash of the ESP32 using:\n",
    "   ```\n",
    "   ampy --port COM<xx> put <pythonfilename>.py\n",
    "   ```\n",
    "   List the files in the ESP32's flash memory:\n",
    "   ```\n",
    "   ampy --port COM<xx> ls\n",
    "   ```\n",
    "   View a file in the flash:\n",
    "   ```\n",
    "   ampy --port COM<xx> get <filename>\n",
    "   ```\n",
    "   Remove a file from the flash:\n",
    "   ```\n",
    "   ampy --port COM<xx> rm <filename>\n",
    "   ```\n",
    "   Set default COM port to use shorter commands:\n",
    "   ```\n",
    "   $env:AMPY_PORT = 'COM<xx>'\n",
    "   ampy ls\n",
    "   ```\n",
    "\n",
    "   _Note:_ In principle, similar commands ae also available from a jupyter \n",
    "   notebook connected to a python kernel running on the device (see below, \n",
    "   and see `%lsmagic` for commands), but I could not get them to work reliably.\n",
    "\n",
    "\n",
    "### Using Atom to interact with MicroPython on an ESP32\n",
    "\n",
    "The `pymakr` plugin for [Atom](https://atom.io/) allows to interact with a \n",
    "ESP32 via the REPL. In addition, one can also use it to upload all files of \n",
    "a project (in a specified folder) or run individual `.py` files directly.\n",
    "\n",
    "\n",
    "### Using Jupyter to interact with a ESP32 over its serial REPL\n",
    "\n",
    "The following instructions assume that Jupyter is already installed, \n",
    "preferentially [Anaconda](https://www.anaconda.com/distribution/). This is a summary \n",
    "of the instructions in the respective github repository \n",
    "[goatchurchprime/jupyter_micropython_kernel](https://github.com/goatchurchprime/jupyter_micropython_kernel/)\n",
    "by Julian Todd; please see there for further details and updates.\n",
    "\n",
    "1. Clone this repository to a directory (e.g. `MicroPython`) using:\n",
    "   ```\n",
    "   git clone https://github.com/goatchurchprime/jupyter_micropython_kernel.git\n",
    "   ```\n",
    "\n",
    "\n",
    "2. Install this library (in editable mode) into Python3 using:\n",
    "   ```\n",
    "   pip install -e jupyter_micropython_kernel\n",
    "   ```\n",
    "   This creates a small file pointing to this directory in the `python/../site-packages directory`, \n",
    "   and makes it possible to `git update` the library later as it gets improved. \n",
    " \n",
    " \n",
    "3. Install the kernel into jupyter itself using:\n",
    "   ```\n",
    "   python -m jupyter_micropython_kernel.install\n",
    "   ```\n",
    "   This creates the small file `.local/share/jupyter/kernels/micropython/kernel.json` \n",
    "   that jupyter uses to reference its kernels.\n",
    "\n",
    "\n",
    "4. Now run Jupyter notebooks:\n",
    "   ```\n",
    "   jupyter notebook\n",
    "   ```\n",
    "   \n",
    "   \n",
    "5. All \"magic\" commands can be listed with `%lsmagic`. The most important\n",
    "   one connects the notebook to the MicroPython REPL on the device:"
   ]
  },
  {
   "cell_type": "code",
   "execution_count": 2,
   "metadata": {},
   "outputs": [
    {
     "name": "stdout",
     "output_type": "stream",
     "text": [
      "\u001b[34mConnecting to --port=COM5 --baud=115200 \u001b[0m\n",
      "OSError: [Errno 2] ENOENT\n",
      "MicroPython v1.9.4-512-g6f015d337 on 2018-09-11; ESP32 module with ESP32\n",
      "Type \"help()\" for more information.\n",
      ">>>[reboot detected 0]repl is in normal command mode\n",
      "[\\r\\x03\\x03] b'\\r\\n>>> '\n",
      "[\\r\\x01] b'\\r\\n>>> \\r\\nraw REPL; CTRL-B to exit\\r\\n>' \u001b[34mReady.\n",
      "\u001b[0m"
     ]
    }
   ],
   "source": [
    "%serialconnect"
   ]
  },
  {
   "cell_type": "markdown",
   "metadata": {},
   "source": [
    "### Running some tests\n",
    "\n",
    "Switching red onboard LED on ..."
   ]
  },
  {
   "cell_type": "code",
   "execution_count": 3,
   "metadata": {},
   "outputs": [],
   "source": [
    "import machine\n",
    "\n",
    "pin = machine.Pin(13, machine.Pin.OUT)\n",
    "pin.value(1)"
   ]
  },
  {
   "cell_type": "markdown",
   "metadata": {},
   "source": [
    "... and off:"
   ]
  },
  {
   "cell_type": "code",
   "execution_count": 4,
   "metadata": {},
   "outputs": [],
   "source": [
    "pin.value(0)"
   ]
  },
  {
   "cell_type": "markdown",
   "metadata": {},
   "source": [
    "Modulate the LED sinusoidally:"
   ]
  },
  {
   "cell_type": "code",
   "execution_count": 14,
   "metadata": {},
   "outputs": [
    {
     "name": "stdout",
     "output_type": "stream",
     "text": [
      "."
     ]
    }
   ],
   "source": [
    "import math\n",
    "import time\n",
    "\n",
    "# Initialise PWM for pin 13\n",
    "#\n",
    "pwm = machine.PWM(machine.Pin(13))\n",
    "\n",
    "# Change the duty cycle (0..1023) sinusoidally, `nCycle` times\n",
    "#\n",
    "nSteps  = 50\n",
    "nCycles = 10\n",
    "for iC in range(nCycles):\n",
    "    for iS in range(nSteps):\n",
    "        pwm.duty(int((math.sin(iS/nSteps *2 *math.pi) +1) /2 *1023))\n",
    "        time.sleep(0.01)\n",
    "\n",
    "# Release pin        \n",
    "#\n",
    "pwm.deinit()"
   ]
  },
  {
   "cell_type": "markdown",
   "metadata": {},
   "source": [
    "### More resources\n",
    "\n",
    "- https://github.com/lemariva/ESP32MicroPython\n",
    "- https://github.com/pvanallen/esp32-getstarted\n",
    "  (Useful starting up info)\n",
    "- https://github.com/espressif/esptool\n",
    "- https://learn.adafruit.com/micropython-hardware-ili9341-tft-and-featherwing/micropython\n",
    "- https://github.com/loboris/MicroPython_ESP32_psRAM_LoBo/wiki\n",
    "- https://medium.com/@rovai/micropython-on-esp-using-jupyter-6f366ff5ed9\n",
    "\n",
    "\n",
    "## MicroPython on an ESP8266\n",
    "\n",
    "Install micropython, e.g. Wemos D1 Pro (4 MB):\n",
    "```   \n",
    "python -m esptool --port COM<xx> erase_flash\n",
    "python -m esptool --port COM<xx> --baud 115200 write_flash -fm dio --flash_size=4MB 0 <yyy>.bin\n",
    "```"
   ]
  },
  {
   "cell_type": "code",
   "execution_count": null,
   "metadata": {},
   "outputs": [],
   "source": []
  }
 ],
 "metadata": {
  "kernelspec": {
   "display_name": "MicroPython - USB",
   "language": "micropython",
   "name": "micropython"
  },
  "language_info": {
   "codemirror_mode": "python",
   "file_extension": ".py",
   "mimetype": "text/python",
   "name": "micropython"
  }
 },
 "nbformat": 4,
 "nbformat_minor": 2
}
