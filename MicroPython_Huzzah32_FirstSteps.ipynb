{
 "cells": [
  {
   "cell_type": "markdown",
   "metadata": {},
   "source": [
    "## MicroPython on the ESP32\n",
    "\n",
    "### Using Jupyter to interact with a ESP32 over its serial REPL\n",
    "\n",
    "The following instructions assume that Jupyter is already installed, \n",
    "preferentially [Anaconda](https://www.anaconda.com/distribution/). This is a summary \n",
    "of the instructions in the respective github repository \n",
    "[goatchurchprime/jupyter_micropython_kernel](https://github.com/goatchurchprime/jupyter_micropython_kernel/)\n",
    "by Julian Todd; please see there for further details and updates.\n",
    "\n",
    "1. Clone this repository to a directory (e.g. `MicroPython`) using:\n",
    "   ```\n",
    "   git clone https://github.com/goatchurchprime/jupyter_micropython_kernel.git\n",
    "   ```\n",
    "\n",
    "\n",
    "2. Install this library (in editable mode) into Python3 using:\n",
    "   ```\n",
    "   pip install -e jupyter_micropython_kernel\n",
    "   ```\n",
    "   This creates a small file pointing to this directory in the `python/../site-packages directory`, \n",
    "   and makes it possible to `git update` the library later as it gets improved. \n",
    " \n",
    " \n",
    "3. Install the kernel into jupyter itself using:\n",
    "   ```\n",
    "   python -m jupyter_micropython_kernel.install\n",
    "   ```\n",
    "   This creates the small file `.local/share/jupyter/kernels/micropython/kernel.json` \n",
    "   that jupyter uses to reference its kernels.\n",
    "\n",
    "\n",
    "4. Now run Jupyter notebooks:\n",
    "   ```\n",
    "   jupyter notebook\n",
    "   ```\n",
    "   \n",
    "   \n",
    "5. All \"magic\" commands can be listed with `%lsmagic`. The most important\n",
    "   one connects the notebook to the MicroPython REPL on the device:"
   ]
  },
  {
   "cell_type": "code",
   "execution_count": 2,
   "metadata": {},
   "outputs": [
    {
     "name": "stdout",
     "output_type": "stream",
     "text": [
      "\u001b[34mConnecting to --port=COM5 --baud=115200 \u001b[0m\n",
      "OSError: [Errno 2] ENOENT\n",
      "MicroPython v1.9.4-512-g6f015d337 on 2018-09-11; ESP32 module with ESP32\n",
      "Type \"help()\" for more information.\n",
      ">>>[reboot detected 0]repl is in normal command mode\n",
      "[\\r\\x03\\x03] b'\\r\\n>>> '\n",
      "[\\r\\x01] b'\\r\\n>>> \\r\\nraw REPL; CTRL-B to exit\\r\\n>' \u001b[34mReady.\n",
      "\u001b[0m"
     ]
    }
   ],
   "source": [
    "%serialconnect"
   ]
  },
  {
   "cell_type": "markdown",
   "metadata": {},
   "source": [
    "### Running some tests\n",
    "\n",
    "Switching red onboard LED on ..."
   ]
  },
  {
   "cell_type": "code",
   "execution_count": 3,
   "metadata": {
    "collapsed": true
   },
   "outputs": [],
   "source": [
    "import machine\n",
    "\n",
    "pin = machine.Pin(13, machine.Pin.OUT)\n",
    "pin.value(1)"
   ]
  },
  {
   "cell_type": "markdown",
   "metadata": {},
   "source": [
    "... and off:"
   ]
  },
  {
   "cell_type": "code",
   "execution_count": 4,
   "metadata": {
    "collapsed": true
   },
   "outputs": [],
   "source": [
    "pin.value(0)"
   ]
  },
  {
   "cell_type": "markdown",
   "metadata": {},
   "source": [
    "Modulate the LED sinusoidally:"
   ]
  },
  {
   "cell_type": "code",
   "execution_count": 5,
   "metadata": {
    "collapsed": true
   },
   "outputs": [],
   "source": [
    "import math\n",
    "import time\n",
    "\n",
    "# Initialise PWM for pin 13\n",
    "#\n",
    "pwm = machine.PWM(machine.Pin(13))\n",
    "\n",
    "# Change the duty cycle (0..1023) sinusoidally, `nCycle` times\n",
    "#\n",
    "nSteps  = 50\n",
    "nCycles = 10\n",
    "for iC in range(nCycles):\n",
    "    for iS in range(nSteps):\n",
    "        pwm.duty(int((math.sin(iS/nSteps *2 *math.pi) +1) /2 *1023))\n",
    "        time.sleep(0.01)\n",
    "\n",
    "# Release pin        \n",
    "#\n",
    "pwm.deinit()"
   ]
  },
  {
   "cell_type": "code",
   "execution_count": null,
   "metadata": {
    "collapsed": true
   },
   "outputs": [],
   "source": []
  }
 ],
 "metadata": {
  "kernelspec": {
   "display_name": "MicroPython - USB",
   "language": "micropython",
   "name": "micropython"
  },
  "language_info": {
   "codemirror_mode": "python",
   "file_extension": ".py",
   "mimetype": "text/python",
   "name": "micropython"
  }
 },
 "nbformat": 4,
 "nbformat_minor": 2
}
